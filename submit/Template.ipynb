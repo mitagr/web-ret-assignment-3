{
 "cells": [
  {
   "cell_type": "code",
   "execution_count": 1,
   "metadata": {
    "tags": [
     "hide_input"
    ]
   },
   "outputs": [],
   "source": [
    "%%capture\n",
    "# DO NOT EDIT THIS NOTEBOOK\n",
    "# It generates a report to verify your submission\n",
    "import solution\n",
    "import time\n",
    "start_verify = time.time()\n",
    "import matplotlib.pyplot as plt\n",
    "plt.rcParams[\"figure.figsize\"] = (10,3)"
   ]
  },
  {
   "cell_type": "markdown",
   "metadata": {},
   "source": [
    "### Web Information Retrieval and Data Mining - Assignment 3"
   ]
  },
  {
   "cell_type": "code",
   "execution_count": 2,
   "metadata": {
    "tags": [
     "hide_input"
    ]
   },
   "outputs": [
    {
     "name": "stdout",
     "output_type": "stream",
     "text": [
      "Student: LAST_NAME, FIRST_NAME (YOUR_ID)\n"
     ]
    }
   ],
   "source": [
    "print(\"Student: {0} ({1})\".format(solution.your_name,solution.student_id))"
   ]
  },
  {
   "cell_type": "markdown",
   "metadata": {},
   "source": [
    "#### Answer 1.1 (4p)"
   ]
  },
  {
   "cell_type": "code",
   "execution_count": 3,
   "metadata": {
    "tags": [
     "hide_input"
    ]
   },
   "outputs": [
    {
     "name": "stdout",
     "output_type": "stream",
     "text": [
      "\u001b[91mNo model is returned by the model_builder\u001b[0m\n",
      "\n",
      "               Your answer \n",
      "               \n"
     ]
    }
   ],
   "source": [
    "solution.run_evaluation(\"model_1_1\", solution.build_model_1_1, solution.evaluation_split, solution.base_dir, \n",
    "               train=False, epochs=3, batch_size=32)\n",
    "print(solution.answer_q_1_1)"
   ]
  },
  {
   "cell_type": "markdown",
   "metadata": {},
   "source": [
    "#### Answer 1.2 (2p)"
   ]
  },
  {
   "cell_type": "code",
   "execution_count": 4,
   "metadata": {
    "tags": [
     "hide_input"
    ]
   },
   "outputs": [
    {
     "name": "stdout",
     "output_type": "stream",
     "text": [
      "\u001b[91mNo model is returned by the model_builder\u001b[0m\n",
      "\n",
      "               Your answer \n",
      "               \n"
     ]
    }
   ],
   "source": [
    "solution.run_evaluation(\"model_1_2\", solution.build_model_1_2, solution.evaluation_split, solution.base_dir, \n",
    "               train=False, epochs=3, batch_size=32)\n",
    "print(solution.answer_q_1_2)"
   ]
  },
  {
   "cell_type": "markdown",
   "metadata": {},
   "source": [
    "#### Answer 1.3 (4p)"
   ]
  },
  {
   "cell_type": "code",
   "execution_count": 5,
   "metadata": {
    "tags": [
     "hide_input"
    ]
   },
   "outputs": [
    {
     "name": "stdout",
     "output_type": "stream",
     "text": [
      "\u001b[91mNo model is returned by the model_builder\u001b[0m\n",
      "\n",
      "               Your answer \n",
      "               \n"
     ]
    }
   ],
   "source": [
    "solution.run_evaluation(\"model_1_3\", solution.build_model_1_3, solution.evaluation_split, solution.base_dir, \n",
    "               train=False, epochs=3, batch_size=32)\n",
    "print(solution.answer_q_1_3)"
   ]
  },
  {
   "cell_type": "markdown",
   "metadata": {},
   "source": [
    "#### Answer 2.1 (7p)"
   ]
  },
  {
   "cell_type": "code",
   "execution_count": 6,
   "metadata": {
    "tags": [
     "hide_input"
    ]
   },
   "outputs": [
    {
     "name": "stdout",
     "output_type": "stream",
     "text": [
      "\u001b[91mNo model is returned by the model_builder\u001b[0m\n",
      "\n",
      "               Your answer \n",
      "               \n"
     ]
    }
   ],
   "source": [
    "solution.run_evaluation(\"model_2_1\", solution.build_model_2_1, solution.evaluation_split, solution.base_dir, \n",
    "               train=False, epochs=3, batch_size=32)\n",
    "print(solution.answer_q_2_1)"
   ]
  },
  {
   "cell_type": "markdown",
   "metadata": {},
   "source": [
    "#### Answer 2.2 (3p)"
   ]
  },
  {
   "cell_type": "code",
   "execution_count": 7,
   "metadata": {
    "tags": [
     "hide_input"
    ]
   },
   "outputs": [
    {
     "name": "stdout",
     "output_type": "stream",
     "text": [
      "\u001b[91mNo model is returned by the model_builder\u001b[0m\n",
      "\n",
      "               Your answer \n",
      "               \n"
     ]
    }
   ],
   "source": [
    "solution.run_evaluation(\"model_2_2\", solution.build_model_2_1, solution.augmented_split, solution.base_dir, \n",
    "               train=False, generator=True, epochs=3, batch_size=32)\n",
    "print(solution.answer_q_2_2)"
   ]
  },
  {
   "cell_type": "markdown",
   "metadata": {},
   "source": [
    "#### Answer 3.1 (2p)"
   ]
  },
  {
   "cell_type": "code",
   "execution_count": 8,
   "metadata": {
    "tags": [
     "hide_input"
    ]
   },
   "outputs": [
    {
     "name": "stdout",
     "output_type": "stream",
     "text": [
      "\n",
      "               Your answer \n",
      "               \n"
     ]
    }
   ],
   "source": [
    "solution.plot_confusion_matrix()\n",
    "solution.plot_misclassifications()\n",
    "print(solution.answer_q_3_1)"
   ]
  },
  {
   "cell_type": "markdown",
   "metadata": {},
   "source": [
    "#### Answer 3.2 (4p)"
   ]
  },
  {
   "cell_type": "code",
   "execution_count": 9,
   "metadata": {
    "tags": [
     "hide_input"
    ]
   },
   "outputs": [
    {
     "name": "stdout",
     "output_type": "stream",
     "text": [
      "\n",
      "               Your answer \n",
      "               \n"
     ]
    }
   ],
   "source": [
    "solution.plot_activations()\n",
    "print(solution.answer_q_3_2)"
   ]
  },
  {
   "cell_type": "markdown",
   "metadata": {},
   "source": [
    "#### Answer 3.3 (4p)"
   ]
  },
  {
   "cell_type": "code",
   "execution_count": 10,
   "metadata": {
    "tags": [
     "hide_input"
    ]
   },
   "outputs": [],
   "source": [
    "solution.plot_3_3()"
   ]
  },
  {
   "cell_type": "markdown",
   "metadata": {},
   "source": [
    "#### Answer 4.1 (5p)"
   ]
  },
  {
   "cell_type": "code",
   "execution_count": 11,
   "metadata": {
    "tags": [
     "hide_input"
    ]
   },
   "outputs": [
    {
     "name": "stdout",
     "output_type": "stream",
     "text": [
      "\u001b[91mNo model is returned by the model_builder\u001b[0m\n",
      "\n",
      "               Your answer \n",
      "               \n"
     ]
    }
   ],
   "source": [
    "solution.run_evaluation(\"model_4_1\", solution.build_model_4_1, solution.evaluation_split, solution.base_dir, \n",
    "               train=False, epochs=3, batch_size=32)\n",
    "print(solution.answer_q_4_1)"
   ]
  },
  {
   "cell_type": "markdown",
   "metadata": {},
   "source": [
    "#### Answer 4.2 (5p)"
   ]
  },
  {
   "cell_type": "code",
   "execution_count": 12,
   "metadata": {
    "tags": [
     "hide_input"
    ]
   },
   "outputs": [
    {
     "name": "stdout",
     "output_type": "stream",
     "text": [
      "None\n",
      "Evaluation: None\n"
     ]
    }
   ],
   "source": [
    "#solution.store_embeddings()\n",
    "print(solution.generate_pipeline())\n",
    "print(\"Evaluation:\",solution.evaluation_4_2(solution.X_train, solution.y_train, solution.X_test, solution.y_test))"
   ]
  },
  {
   "cell_type": "code",
   "execution_count": 13,
   "metadata": {
    "tags": [
     "hide_input"
    ]
   },
   "outputs": [
    {
     "name": "stdout",
     "output_type": "stream",
     "text": [
      "Running time: 0.33 seconds\n",
      "Last modified: March 28, 2020\n",
      "scikit-learn version: 0.22.1\n"
     ]
    }
   ],
   "source": [
    "end_verify = time.time()\n",
    "print(\"Running time: {:.2f} seconds\".format(end_verify - start_verify))\n",
    "print(\"Last modified: {}\".format(solution.last_edit))\n",
    "print(\"scikit-learn version: {0}\".format(solution.sklearn_version))"
   ]
  }
 ],
 "metadata": {
  "kernelspec": {
   "display_name": "Python 3",
   "language": "python",
   "name": "python3"
  },
  "language_info": {
   "codemirror_mode": {
    "name": "ipython",
    "version": 3
   },
   "file_extension": ".py",
   "mimetype": "text/x-python",
   "name": "python",
   "nbconvert_exporter": "python",
   "pygments_lexer": "ipython3",
   "version": "3.7.3"
  }
 },
 "nbformat": 4,
 "nbformat_minor": 4
}
